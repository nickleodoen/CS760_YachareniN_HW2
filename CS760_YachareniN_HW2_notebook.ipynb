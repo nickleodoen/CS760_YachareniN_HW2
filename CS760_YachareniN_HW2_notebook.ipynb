{
 "cells": [
  {
   "cell_type": "code",
   "execution_count": 1,
   "id": "29c28978",
   "metadata": {},
   "outputs": [],
   "source": [
    "import matplotlib.pyplot as plt\n",
    "import pandas as pd\n",
    "import numpy as np\n",
    "from math import log2"
   ]
  },
  {
   "cell_type": "code",
   "execution_count": 2,
   "id": "737d0351",
   "metadata": {},
   "outputs": [
    {
     "data": {
      "image/png": "[encoded data removed]",
      "text/plain": [
       "<Figure size 432x288 with 1 Axes>"
      ]
     },
     "metadata": {
      "needs_background": "light"
     },
     "output_type": "display_data"
    }
   ],
   "source": [
    "# Question 2 - 2\n",
    "x_1 = [2.0, 3.0, 4.0, 5.0]\n",
    "x_2 = [2.0, 3.0, 4.0, 5.0]\n",
    "y = [0, 1, 0, 1]\n",
    "\n",
    "plt.scatter(x_1, x_2, c=y, cmap='viridis')\n",
    "plt.title('Small Training Set')\n",
    "plt.xlabel('x1')\n",
    "plt.ylabel('x2')\n",
    "plt.show()"
   ]
  },
  {
   "cell_type": "code",
   "execution_count": 3,
   "id": "abe4108f",
   "metadata": {},
   "outputs": [],
   "source": [
    "# functions for Question 2 - 3"
   ]
  },
  {
   "cell_type": "code",
   "execution_count": 4,
   "id": "311fe7fc",
   "metadata": {},
   "outputs": [],
   "source": [
    "def entropy(data):\n",
    "    new_data, count = np.unique(data, return_counts=True)\n",
    "    prob = count / len(data)\n",
    "    return -np.sum(prob * np.log2(prob)) # entropy calculation"
   ]
  },
  {
   "cell_type": "code",
   "execution_count": 5,
   "id": "0b9123b8",
   "metadata": {},
   "outputs": [],
   "source": [
    "def info_gain(data, candidate, t):\n",
    "    left = data[data[candidate] >= t]\n",
    "    right = data[data[candidate < t]]\n",
    "    e_parent = entropy(data['y'])\n",
    "    e_left = entropy(left['y'])\n",
    "    e_right = entropy(right['y'])\n",
    "    w_left = len(left)/len(data)\n",
    "    w_right = len(right)/len(data)\n",
    "    \n",
    "    info_gain = e_parent - (w_left * e_left + w_right * e_right)\n",
    "    info_gain_ratio = info_gain / (-np.sum([w_left * np.log2(w_left), w_right * np.log2(w_right)]))\n",
    "    \n",
    "    return info_gain, info_gain_ratio"
   ]
  },
  {
   "cell_type": "code",
   "execution_count": 6,
   "id": "907ab2bd",
   "metadata": {},
   "outputs": [],
   "source": [
    "def info_gain_ratio_calculation(data):\n",
    "    x1_ = data\n",
    "    info_gain_ratios_ = []\n",
    "    for x in x1_:\n",
    "        if len(data >= x) > 1:\n",
    "            info_gain_ratio, info_gain_ = info_gain(data, 'x1', x)\n",
    "            info_gain_ratios_.append((x, info_gain_ratio, info_gain_))\n",
    "        else:\n",
    "            info_gain_ratios_.append((x, info_gain_, info_gain_))\n",
    "    return info_gain_ratios"
   ]
  },
  {
   "cell_type": "code",
   "execution_count": 7,
   "id": "a686c286",
   "metadata": {},
   "outputs": [],
   "source": [
    "# # Question 2 - 3\n",
    "# data = pd.read_csv('data/Druns.txt', sep=' ', names=['x1', 'x2', 'y'])\n",
    "\n",
    "# # results\n",
    "# info_gain_ratios_x1 = info_gain_ratio_calculation(data['x1'])\n",
    "# info_gain_ratios_x1 = pd.DataFrame(info_gain_ratios_x1, columns=['threshold_x1', 'info_gain_ratio', 'info_gain'])\n",
    "# info_gain_ratios_x2 = info_gain_ratio_calculation(data['x2'])\n",
    "# info_gain_ratios_x2 = pd.DataFrame(info_gain_ratios_x2, columns=['threshold_x1', 'info_gain_ratio', 'info_gain'])"
   ]
  },
  {
   "cell_type": "code",
   "execution_count": 8,
   "id": "a36115ff",
   "metadata": {},
   "outputs": [
    {
     "data": {
      "text/html": [
       "<div>\n",
       "<style scoped>\n",
       "    .dataframe tbody tr th:only-of-type {\n",
       "        vertical-align: middle;\n",
       "    }\n",
       "\n",
       "    .dataframe tbody tr th {\n",
       "        vertical-align: top;\n",
       "    }\n",
       "\n",
       "    .dataframe thead th {\n",
       "        text-align: right;\n",
       "    }\n",
       "</style>\n",
       "<table border=\"1\" class=\"dataframe\">\n",
       "  <thead>\n",
       "    <tr style=\"text-align: right;\">\n",
       "      <th></th>\n",
       "      <th>x1</th>\n",
       "      <th>x2</th>\n",
       "      <th>y</th>\n",
       "    </tr>\n",
       "  </thead>\n",
       "  <tbody>\n",
       "    <tr>\n",
       "      <th>0</th>\n",
       "      <td>10</td>\n",
       "      <td>1</td>\n",
       "      <td>1</td>\n",
       "    </tr>\n",
       "    <tr>\n",
       "      <th>1</th>\n",
       "      <td>10</td>\n",
       "      <td>2</td>\n",
       "      <td>1</td>\n",
       "    </tr>\n",
       "    <tr>\n",
       "      <th>2</th>\n",
       "      <td>10</td>\n",
       "      <td>3</td>\n",
       "      <td>1</td>\n",
       "    </tr>\n",
       "    <tr>\n",
       "      <th>3</th>\n",
       "      <td>1</td>\n",
       "      <td>1</td>\n",
       "      <td>0</td>\n",
       "    </tr>\n",
       "    <tr>\n",
       "      <th>4</th>\n",
       "      <td>1</td>\n",
       "      <td>3</td>\n",
       "      <td>1</td>\n",
       "    </tr>\n",
       "  </tbody>\n",
       "</table>\n",
       "</div>"
      ],
      "text/plain": [
       "   x1  x2  y\n",
       "0  10   1  1\n",
       "1  10   2  1\n",
       "2  10   3  1\n",
       "3   1   1  0\n",
       "4   1   3  1"
      ]
     },
     "execution_count": 8,
     "metadata": {},
     "output_type": "execute_result"
    }
   ],
   "source": [
    "# Question 2 - 4\n",
    "data = pd.read_csv('data/D3leaves.txt', sep=' ', names=['x1', 'x2', 'y'])\n",
    "data"
   ]
  },
  {
   "cell_type": "markdown",
   "id": "415a7ffc",
   "metadata": {},
   "source": [
    "### We would build a decision tree using a self-defined node class since we cannot use scikit learn. However, we can use a manual tree classifier - a simple tree based on Occam's razor would have two levels - this tree would be classified based on the input features - if x1 is 10 then the label would be 1 else we consider both x1 and x2. If x1 is 1 and x2 is 1 the label is 0, and if x1 is 1 and x2 is 3 then the label is 1 again (leaf node again).\n",
    "\n",
    "### Manually converting this to logic rules:\n",
    "### if x1 == 10: class is 1\n",
    "### if x1 == 1 and x2 == 1: class is 0\n",
    "### if x1 == 1 and x2 == 3: class is 1"
   ]
  },
  {
   "cell_type": "code",
   "execution_count": null,
   "id": "7fe5a8f1",
   "metadata": {},
   "outputs": [],
   "source": []
  }
 ],
 "metadata": {
  "kernelspec": {
   "display_name": "Python 3 (ipykernel)",
   "language": "python",
   "name": "python3"
  },
  "language_info": {
   "codemirror_mode": {
    "name": "ipython",
    "version": 3
   },
   "file_extension": ".py",
   "mimetype": "text/x-python",
   "name": "python",
   "nbconvert_exporter": "python",
   "pygments_lexer": "ipython3",
   "version": "3.9.12"
  }
 },
 "nbformat": 4,
 "nbformat_minor": 5
}
