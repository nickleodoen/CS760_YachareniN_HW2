{
 "cells": [
  {
   "cell_type": "code",
   "execution_count": 1,
   "id": "29c28978",
   "metadata": {},
   "outputs": [],
   "source": [
    "import matplotlib.pyplot as plt\n",
    "import pandas as pd\n",
    "import numpy as np\n",
    "from math import log2"
   ]
  },
  {
   "cell_type": "code",
   "execution_count": 2,
   "id": "737d0351",
   "metadata": {},
   "outputs": [
    {
     "data": {
      "image/png": "[encoded data removed]",
      "text/plain": [
       "<Figure size 432x288 with 1 Axes>"
      ]
     },
     "metadata": {
      "needs_background": "light"
     },
     "output_type": "display_data"
    }
   ],
   "source": [
    "# Question 2 - 2\n",
    "x_1 = [2.0, 3.0, 4.0, 5.0]\n",
    "x_2 = [2.0, 3.0, 4.0, 5.0]\n",
    "y = [0, 1, 0, 1]\n",
    "\n",
    "plt.scatter(x_1, x_2, c=y, cmap='viridis')\n",
    "plt.title('Small Training Set')\n",
    "plt.xlabel('x1')\n",
    "plt.ylabel('x2')\n",
    "plt.show()"
   ]
  },
  {
   "cell_type": "code",
   "execution_count": 3,
   "id": "2261bd1b",
   "metadata": {},
   "outputs": [],
   "source": [
    "# functions for Question 2 - 3"
   ]
  },
  {
   "cell_type": "code",
   "execution_count": 4,
   "id": "e9521eb6",
   "metadata": {},
   "outputs": [],
   "source": [
    "def entropy(data):\n",
    "    new_data, count = np.unique(data, return_counts=True)\n",
    "    prob = count / len(data)\n",
    "    return -np.sum(prob * np.log2(prob)) # entropy calculation"
   ]
  },
  {
   "cell_type": "code",
   "execution_count": 5,
   "id": "d76bb77d",
   "metadata": {},
   "outputs": [],
   "source": [
    "def info_gain(data, candidate, t):\n",
    "    left = data[data[candidate] >= t]\n",
    "    right = data[data[candidate < t]]\n",
    "    e_parent = entropy(data['y'])\n",
    "    e_left = entropy(left['y'])\n",
    "    e_right = entropy(right['y'])\n",
    "    w_left = len(left)/len(data)\n",
    "    w_right = len(right)/len(data)\n",
    "    \n",
    "    info_gain = e_parent - (w_left * e_left + w_right * e_right)\n",
    "    info_gain_ratio = info_gain / (-np.sum([w_left * np.log2(w_left), w_right * np.log2(w_right)]))\n",
    "    \n",
    "    return info_gain, info_gain_ratio"
   ]
  },
  {
   "cell_type": "code",
   "execution_count": 6,
   "id": "650da52a",
   "metadata": {},
   "outputs": [],
   "source": [
    "def info_gain_ratio_calculation(data):\n",
    "    x1_ = data\n",
    "    info_gain_ratios_ = []\n",
    "    for x in x1_:\n",
    "        if len(data >= x) > 1:\n",
    "            info_gain_ratio, info_gain_ = info_gain(data, 'x1', x)\n",
    "            info_gain_ratios_.append((x, info_gain_ratio, info_gain_))\n",
    "        else:\n",
    "            info_gain_ratios_.append((x, info_gain_, info_gain_))\n",
    "    return info_gain_ratios"
   ]
  },
  {
   "cell_type": "code",
   "execution_count": 7,
   "id": "db264df8",
   "metadata": {},
   "outputs": [],
   "source": [
    "# # Question 2 - 3\n",
    "# data = pd.read_csv('data/Druns.txt', sep=' ', names=['x1', 'x2', 'y'])\n",
    "\n",
    "# # results\n",
    "# info_gain_ratios_x1 = info_gain_ratio_calculation(data['x1'])\n",
    "# info_gain_ratios_x1 = pd.DataFrame(info_gain_ratios_x1, columns=['threshold_x1', 'info_gain_ratio', 'info_gain'])\n",
    "# info_gain_ratios_x2 = info_gain_ratio_calculation(data['x2'])\n",
    "# info_gain_ratios_x2 = pd.DataFrame(info_gain_ratios_x2, columns=['threshold_x1', 'info_gain_ratio', 'info_gain'])"
   ]
  },
  {
   "cell_type": "code",
   "execution_count": 8,
   "id": "3c9786cc",
   "metadata": {},
   "outputs": [
    {
     "data": {
      "text/html": [
       "<div>\n",
       "<style scoped>\n",
       "    .dataframe tbody tr th:only-of-type {\n",
       "        vertical-align: middle;\n",
       "    }\n",
       "\n",
       "    .dataframe tbody tr th {\n",
       "        vertical-align: top;\n",
       "    }\n",
       "\n",
       "    .dataframe thead th {\n",
       "        text-align: right;\n",
       "    }\n",
       "</style>\n",
       "<table border=\"1\" class=\"dataframe\">\n",
       "  <thead>\n",
       "    <tr style=\"text-align: right;\">\n",
       "      <th></th>\n",
       "      <th>x1</th>\n",
       "      <th>x2</th>\n",
       "      <th>y</th>\n",
       "    </tr>\n",
       "  </thead>\n",
       "  <tbody>\n",
       "    <tr>\n",
       "      <th>0</th>\n",
       "      <td>10</td>\n",
       "      <td>1</td>\n",
       "      <td>1</td>\n",
       "    </tr>\n",
       "    <tr>\n",
       "      <th>1</th>\n",
       "      <td>10</td>\n",
       "      <td>2</td>\n",
       "      <td>1</td>\n",
       "    </tr>\n",
       "    <tr>\n",
       "      <th>2</th>\n",
       "      <td>10</td>\n",
       "      <td>3</td>\n",
       "      <td>1</td>\n",
       "    </tr>\n",
       "    <tr>\n",
       "      <th>3</th>\n",
       "      <td>1</td>\n",
       "      <td>1</td>\n",
       "      <td>0</td>\n",
       "    </tr>\n",
       "    <tr>\n",
       "      <th>4</th>\n",
       "      <td>1</td>\n",
       "      <td>3</td>\n",
       "      <td>1</td>\n",
       "    </tr>\n",
       "  </tbody>\n",
       "</table>\n",
       "</div>"
      ],
      "text/plain": [
       "   x1  x2  y\n",
       "0  10   1  1\n",
       "1  10   2  1\n",
       "2  10   3  1\n",
       "3   1   1  0\n",
       "4   1   3  1"
      ]
     },
     "execution_count": 8,
     "metadata": {},
     "output_type": "execute_result"
    }
   ],
   "source": [
    "# Question 2 - 4\n",
    "data = pd.read_csv('data/D3leaves.txt', sep=' ', names=['x1', 'x2', 'y'])\n",
    "data"
   ]
  },
  {
   "cell_type": "markdown",
   "id": "6fbca3ef",
   "metadata": {},
   "source": [
    "### We would build a decision tree using a self-defined node class since we cannot use scikit learn. However, we can use a manual tree classifier - a simple tree based on Occam's razor would have two levels - this tree would be classified based on the input features - if x1 is 10 then the label would be 1 else we consider both x1 and x2. If x1 is 1 and x2 is 1 the label is 0, and if x1 is 1 and x2 is 3 then the label is 1 again (leaf node again).\n",
    "\n",
    "### Manually converting this to logic rules:\n",
    "### if x1 == 10: class is 1\n",
    "### if x1 == 1 and x2 == 1: class is 0\n",
    "### if x1 == 1 and x2 == 3: class is 1"
   ]
  },
  {
   "cell_type": "code",
   "execution_count": 9,
   "id": "c3d8d0b4",
   "metadata": {},
   "outputs": [
    {
     "name": "stdout",
     "output_type": "stream",
     "text": [
      "Accuracy: 0.39103982300884954\n"
     ]
    }
   ],
   "source": [
    "import pandas as pd\n",
    "import numpy as np\n",
    "\n",
    "# Load the data from Dbig.txt\n",
    "data = pd.read_csv('data/Dbig.txt', sep=' ', names=['x1', 'x2', 'y'])\n",
    "\n",
    "# Generate a random permutation of indices\n",
    "np.random.seed(42)  # for reproducibility\n",
    "indices = np.random.permutation(len(data))\n",
    "\n",
    "# Split at 8192 to create the training set and test set\n",
    "split_index = 8192\n",
    "training_indices = indices[:split_index]\n",
    "test_indices = indices[split_index:]\n",
    "\n",
    "# Split the data\n",
    "training_data = data.iloc[training_indices]\n",
    "test_data = data.iloc[test_indices]\n",
    "\n",
    "# Prepare the training and test sets\n",
    "X_train = training_data[['x1', 'x2']]\n",
    "y_train = training_data['y']\n",
    "X_test = test_data[['x1', 'x2']]\n",
    "y_test = test_data['y']\n",
    "\n",
    "# Build the decision tree manually (you can use your own tree building algorithm)\n",
    "\n",
    "# Here's a simple example of a decision tree based on x1 value\n",
    "def simple_decision_tree(x1_value):\n",
    "    if x1_value <= 5.0:\n",
    "        return 0\n",
    "    else:\n",
    "        return 1\n",
    "\n",
    "# Predict using the trained model\n",
    "y_pred = X_test['x1'].apply(simple_decision_tree)\n",
    "\n",
    "# Calculate accuracy\n",
    "accuracy = np.mean(y_pred == y_test)\n",
    "print(\"Accuracy:\", accuracy)\n"
   ]
  },
  {
   "cell_type": "code",
   "execution_count": 10,
   "id": "a09c9631",
   "metadata": {},
   "outputs": [],
   "source": [
    "# Question 2 - 7\n",
    "data = pd.read_csv('data/Dbig.txt', sep=' ', names=['x1', 'x2', 'y'])\n",
    "\n",
    "# random indices permutation\n",
    "np.random.seed(68)\n",
    "cuts = np.random.permutation(len(data))\n",
    "\n",
    "split_index = 8192\n",
    "training_cuts = cuts[:split_index]\n",
    "test_cuts = cuts[split_index]\n",
    "\n",
    "train_data = data.iloc[training_cuts]\n",
    "test_data = data.iloc[test_cuts]\n",
    "\n",
    "X_train = train_data[['x1', 'x2']]\n",
    "y_train = train_data['y']\n",
    "X_test = test_data[['x1', 'x2']]\n",
    "y_test = test_data['y']"
   ]
  },
  {
   "cell_type": "code",
   "execution_count": 11,
   "id": "4350b1eb",
   "metadata": {},
   "outputs": [],
   "source": [
    "values = [32, 128, 512, 2048, 8192]\n",
    "train_sets = [train_data[:n] for n in values]"
   ]
  },
  {
   "cell_type": "code",
   "execution_count": 12,
   "id": "f3b97f5f",
   "metadata": {},
   "outputs": [
    {
     "name": "stderr",
     "output_type": "stream",
     "text": [
      "/Users/nikhil/opt/anaconda3/lib/python3.9/site-packages/scipy/__init__.py:146: UserWarning: A NumPy version >=1.16.5 and <1.23.0 is required for this version of SciPy (detected version 1.24.3\n",
      "  warnings.warn(f\"A NumPy version >={np_minversion} and <{np_maxversion}\"\n"
     ]
    }
   ],
   "source": [
    "# Question 3\n",
    "from sklearn.tree import DecisionTreeClassifier\n",
    "from sklearn.metrics import accuracy_score\n",
    "\n",
    "# train_sets has the training data we need divided accordingly"
   ]
  },
  {
   "cell_type": "code",
   "execution_count": 13,
   "id": "2b8b4ce4",
   "metadata": {},
   "outputs": [],
   "source": [
    "# c_nodes_list = []\n",
    "# test_errs = []\n",
    "\n",
    "# for training_inds, n in zip(train_sets, values):\n",
    "#     train_data_ = data.loc[training_inds]\n",
    "#     X_train_n = train_data_[['x1', 'x2']]\n",
    "#     y_train_n = train_data['y']\n",
    "    \n",
    "#     clf_n = DecisionTreeClassifier(random_state=68) # training decision tree\n",
    "#     clf_n.fit(X_train_n, y_train_n)\n",
    "    \n",
    "#     c_nodes = clf_n.tree_.node_count # nodes calculation\n",
    "#     c_nodes_list.append(c_nodes)\n",
    "#     X_test_n = X_test[:n]\n",
    "#     y_test_n = y_test[:n]\n",
    "    \n",
    "#     y_prediction_n = clf_n.predict(X_test_n)\n",
    "#     test_err_n = 1 - accuracy_score(y_test_n, y_pred_n)\n",
    "#     test_errs.append(test_err_n)\n",
    "    \n",
    "#     print(f\"n = {n}\")\n",
    "#     print(f\"nodes count = {c_nodes}\")\n",
    "#     print(f\"test error = {test_err_n}\")\n",
    "#     print()"
   ]
  },
  {
   "cell_type": "code",
   "execution_count": 14,
   "id": "da6857bd",
   "metadata": {},
   "outputs": [],
   "source": [
    "from scipy.interpolate import lagrange\n",
    "\n",
    "def make_train_set(a, b, n, noise=0):\n",
    "    x_train = np.linspace(a,b,n)\n",
    "    y_train = np.sin(x_train) + np.random.normal(0, noise, n)\n",
    "    return x_train, y_train\n",
    "\n",
    "def make_test_set(a, b, n):\n",
    "    x_test = np.linspace(a, b, n)\n",
    "    y_test = np.sin(x_test)\n",
    "    return x_test, y_test\n",
    "\n",
    "def lag_inter(x_train, y_train, x):\n",
    "    poly = lagrange(x_train, y_train)\n",
    "    return poly(x)\n",
    "\n",
    "def mse(true_y, pred_y):\n",
    "    return np.mean((true_y - pred_y)**2)"
   ]
  },
  {
   "cell_type": "code",
   "execution_count": 15,
   "id": "f884a17e",
   "metadata": {},
   "outputs": [
    {
     "name": "stdout",
     "output_type": "stream",
     "text": [
      "Train Error: 6.190851417722848e+138, Test Error: 6.190851417722848e+138\n"
     ]
    },
    {
     "data": {
      "image/png": "[encoded data removed]",
      "text/plain": [
       "<Figure size 1080x648 with 1 Axes>"
      ]
     },
     "metadata": {
      "needs_background": "light"
     },
     "output_type": "display_data"
    }
   ],
   "source": [
    "# Question 4\n",
    "\n",
    "a, b = 0,2 * 5.2382038028302808\n",
    "n = 100\n",
    "\n",
    "x_train, y_train = make_train_set(a, b, n)\n",
    "x_test, y_test = make_test_set(a, b, n)\n",
    "pred_y_train = lag_inter(x_train, y_train, x_train)\n",
    "pred_y_test = lag_inter(x_train, y_train, x_test)\n",
    "\n",
    "train_err = mse(y_train, pred_y_train)\n",
    "test_err = mse(y_test, pred_y_test)\n",
    "\n",
    "print(f\"Train Error: {train_err}, Test Error: {test_err}\")\n",
    "\n",
    "plt.figure(figsize=(15, 9))\n",
    "plt.plot(x_train, y_train, '+', label=\"training data\")\n",
    "plt.plot(x_test, y_test, label=\"test data, without noise\")\n",
    "plt.plot(x_train, pred_y_train, label=\"Lagrange Interpolation for training data\")\n",
    "plt.plot(x_test, pred_y_test, label=\"Lagrange Interpolation for test data\")\n",
    "plt.xlabel('x')\n",
    "plt.ylabel('y')\n",
    "plt.legend()\n",
    "plt.show()"
   ]
  }
 ],
 "metadata": {
  "kernelspec": {
   "display_name": "Python 3 (ipykernel)",
   "language": "python",
   "name": "python3"
  },
  "language_info": {
   "codemirror_mode": {
    "name": "ipython",
    "version": 3
   },
   "file_extension": ".py",
   "mimetype": "text/x-python",
   "name": "python",
   "nbconvert_exporter": "python",
   "pygments_lexer": "ipython3",
   "version": "3.9.12"
  }
 },
 "nbformat": 4,
 "nbformat_minor": 5
}
